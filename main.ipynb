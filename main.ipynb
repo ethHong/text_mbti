{
 "cells": [
  {
   "cell_type": "code",
   "execution_count": 1,
   "metadata": {},
   "outputs": [],
   "source": [
    "from BART_utils import get_prob, judge_mbti, compute_score, mbti_translator\n",
    "import numpy as np"
   ]
  },
  {
   "cell_type": "code",
   "execution_count": 6,
   "metadata": {},
   "outputs": [
    {
     "name": "stdout",
     "output_type": "stream",
     "text": [
      "You are:  ESTP\n",
      "Ratio {'E': 57.52569959811046, 'I': 42.47430040188955} {'N': 22.418267932410476, 'S': 77.58173206758953} {'T': 61.484782440374175, 'F': 38.51521755962583} {'P': 54.74586990044122, 'J': 45.25413009955878}\n"
     ]
    }
   ],
   "source": [
    "text = input(\"Put your sentence!: \")\n",
    "mbti_translator(text)"
   ]
  },
  {
   "cell_type": "code",
   "execution_count": null,
   "metadata": {},
   "outputs": [],
   "source": []
  }
 ],
 "metadata": {
  "interpreter": {
   "hash": "ca045e0e82b80c80cdacb54c8a532995176e76269958f022629c504a9c392a37"
  },
  "kernelspec": {
   "display_name": "Python 3.9.6 ('mbti_bart-OwFxlXtE')",
   "language": "python",
   "name": "python3"
  },
  "language_info": {
   "codemirror_mode": {
    "name": "ipython",
    "version": 3
   },
   "file_extension": ".py",
   "mimetype": "text/x-python",
   "name": "python",
   "nbconvert_exporter": "python",
   "pygments_lexer": "ipython3",
   "version": "3.9.6"
  },
  "orig_nbformat": 4
 },
 "nbformat": 4,
 "nbformat_minor": 2
}
