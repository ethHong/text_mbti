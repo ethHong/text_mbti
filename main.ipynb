{
 "cells": [
  {
   "cell_type": "code",
   "execution_count": 1,
   "metadata": {},
   "outputs": [],
   "source": [
    "from BART_utils import get_prob, judge_mbti, compute_score, mbti_translator\n",
    "import numpy as np"
   ]
  },
  {
   "cell_type": "code",
   "execution_count": 3,
   "metadata": {},
   "outputs": [],
   "source": [
    "text = input(\"Put your sentence!: \")\n",
    "result = mbti_translator(text)"
   ]
  },
  {
   "cell_type": "code",
   "execution_count": 25,
   "metadata": {},
   "outputs": [
    {
     "data": {
      "text/plain": [
       "('ISFP',\n",
       " ({'E': 24.152868588039876, 'I': 75.84713141196012},\n",
       "  {'N': 36.15997366897479, 'S': 63.840026331025214},\n",
       "  {'T': 46.52131285546611, 'F': 53.4786871445339},\n",
       "  {'P': 63.51013199367834, 'J': 36.489868006321664}))"
      ]
     },
     "execution_count": 25,
     "metadata": {},
     "output_type": "execute_result"
    }
   ],
   "source": [
    "result"
   ]
  },
  {
   "cell_type": "code",
   "execution_count": 30,
   "metadata": {},
   "outputs": [],
   "source": [
    "def plot_mbti(result):\n",
    "    fig, ax = plt.subplots()\n",
    "\n",
    "    start = 0\n",
    "    x, y = result.values()\n",
    "    x_type, y_type = result.keys()\n",
    "\n",
    "    ax.broken_barh([(start, x), (x, x + y)], [10, 9], facecolors=(\"#FFC5BF\", \"#D4F0F0\"))\n",
    "    ax.set_ylim(5, 15)\n",
    "    ax.set_xlim(0, 100)\n",
    "    ax.spines[\"left\"].set_visible(False)\n",
    "    ax.spines[\"bottom\"].set_visible(False)\n",
    "    ax.spines[\"top\"].set_visible(False)\n",
    "    ax.spines[\"right\"].set_visible(False)\n",
    "    ax.set_yticks([15, 25])\n",
    "    ax.set_xticks([0, 25, 50, 75, 100])\n",
    "\n",
    "    ax.text(x - 6, 14.5, str(int(x)) + \"%\", fontsize=8)\n",
    "    ax.text((x + y) - 6, 14.5, str(int(y)) + \"%\", fontsize=8)\n",
    "\n",
    "    fig.suptitle(\"Ratio\", fontsize=16)\n",
    "\n",
    "    plt.show()"
   ]
  },
  {
   "cell_type": "code",
   "execution_count": 31,
   "metadata": {},
   "outputs": [
    {
     "data": {
      "image/png": "[encoded data removed]",
      "text/plain": [
       "<Figure size 432x288 with 1 Axes>"
      ]
     },
     "metadata": {
      "needs_background": "light"
     },
     "output_type": "display_data"
    }
   ],
   "source": [
    "plot_mbti(result[1][0])"
   ]
  },
  {
   "cell_type": "code",
   "execution_count": null,
   "metadata": {},
   "outputs": [],
   "source": []
  }
 ],
 "metadata": {
  "interpreter": {
   "hash": "ca045e0e82b80c80cdacb54c8a532995176e76269958f022629c504a9c392a37"
  },
  "kernelspec": {
   "display_name": "Python 3.9.6 ('mbti_bart-OwFxlXtE')",
   "language": "python",
   "name": "python3"
  },
  "language_info": {
   "codemirror_mode": {
    "name": "ipython",
    "version": 3
   },
   "file_extension": ".py",
   "mimetype": "text/x-python",
   "name": "python",
   "nbconvert_exporter": "python",
   "pygments_lexer": "ipython3",
   "version": "3.9.6"
  },
  "orig_nbformat": 4
 },
 "nbformat": 4,
 "nbformat_minor": 2
}
