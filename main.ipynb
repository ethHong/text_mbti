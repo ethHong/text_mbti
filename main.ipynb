{
 "cells": [
  {
   "cell_type": "code",
   "execution_count": 8,
   "metadata": {},
   "outputs": [],
   "source": [
    "from BART_utils import get_prob, judge_mbti, compute_score, mbti_translator\n",
    "import numpy as np"
   ]
  },
  {
   "cell_type": "code",
   "execution_count": null,
   "metadata": {},
   "outputs": [],
   "source": [
    "text = input(\"Put your sentence!: \")\n",
    "mbti_translator(text)"
   ]
  }
 ],
 "metadata": {
  "interpreter": {
   "hash": "ca045e0e82b80c80cdacb54c8a532995176e76269958f022629c504a9c392a37"
  },
  "kernelspec": {
   "display_name": "Python 3.9.6 ('mbti_bart-OwFxlXtE')",
   "language": "python",
   "name": "python3"
  },
  "language_info": {
   "codemirror_mode": {
    "name": "ipython",
    "version": 3
   },
   "file_extension": ".py",
   "mimetype": "text/x-python",
   "name": "python",
   "nbconvert_exporter": "python",
   "pygments_lexer": "ipython3",
   "version": "3.9.6"
  },
  "orig_nbformat": 4
 },
 "nbformat": 4,
 "nbformat_minor": 2
}
